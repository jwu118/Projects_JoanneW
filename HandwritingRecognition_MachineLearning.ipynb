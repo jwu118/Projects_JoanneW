{
 "cells": [
  {
   "cell_type": "code",
   "execution_count": 34,
   "id": "c74dbaca-83a8-46dc-a072-b95092b30268",
   "metadata": {},
   "outputs": [],
   "source": [
    "import matplotlib.image as mpimg\n",
    "import matplotlib.pyplot as plt\n",
    "from sklearn.model_selection import train_test_split\n",
    "from sklearn.ensemble import RandomForestClassifier\n",
    "from sklearn import datasets\n",
    "from sklearn import metrics"
   ]
  },
  {
   "cell_type": "code",
   "execution_count": 35,
   "id": "6d139051-d7b3-4497-80d3-5b059f8fa086",
   "metadata": {},
   "outputs": [],
   "source": [
    "#Add   %matplotlib inline   at top of your code to make sure that the images will be shown inside the Jupyter explorer page.\n",
    "%matplotlib inline"
   ]
  },
  {
   "cell_type": "code",
   "execution_count": 36,
   "id": "c591a30f-e45b-4434-a495-5e34c4c2d67c",
   "metadata": {},
   "outputs": [],
   "source": [
    "#A. Download the dataset “Digit” and its label from this link:  https://app.box.com/s/sogk96kukv6ayyyy6ym63a2nu3aozif7 \n",
    "digits = datasets.load_digits()"
   ]
  },
  {
   "cell_type": "code",
   "execution_count": 37,
   "id": "3a074355-980e-4f08-82cf-e2d9dbc13593",
   "metadata": {},
   "outputs": [],
   "source": [
    "#B. Build the feature matrix and label vector:\n",
    "n_samples = len(digits.images)\n",
    "data = digits.images.reshape((n_samples, -1))\n",
    "target = digits.target"
   ]
  },
  {
   "cell_type": "code",
   "execution_count": 38,
   "id": "e4c9d182-f430-47b1-9445-6aa6d7e61376",
   "metadata": {},
   "outputs": [],
   "source": [
    "#C. Use sklearn functions to split the dataset into testing and training sets with the following parameters: test_size=0.1, random_state=2.\n",
    "X_train, X_test, y_train, y_test = train_test_split(data, target, test_size=0.1, random_state=2)"
   ]
  },
  {
   "cell_type": "code",
   "execution_count": 39,
   "id": "d0b5ad19-905c-4a9d-aedc-bba3935df9fd",
   "metadata": {},
   "outputs": [
    {
     "name": "stdout",
     "output_type": "stream",
     "text": [
      "Accuracy: 93.89%\n"
     ]
    }
   ],
   "source": [
    "#D. Use scikit-learn “Random Forest” classifier to recognize the hand-written digits based on the training/testing datasets that you built in part (c).\n",
    "my_RandomForest = RandomForestClassifier(n_estimators=19, bootstrap=True, random_state=2)\n",
    "my_RandomForest.fit(X_train, y_train)\n",
    "\n",
    "y_pred = my_RandomForest.predict(X_test)\n",
    "\n",
    "accuracy = metrics.accuracy_score(y_test, y_pred)\n",
    "print(f\"Accuracy: {accuracy * 100:.2f}%\")"
   ]
  },
  {
   "cell_type": "code",
   "execution_count": 40,
   "id": "2c7baeca-8999-46a8-aa68-666193cf9f81",
   "metadata": {},
   "outputs": [
    {
     "name": "stdout",
     "output_type": "stream",
     "text": [
      "Accuracy: 93.89%\n"
     ]
    }
   ],
   "source": [
    "#D. Use scikit-learn “Random Forest” classifier to recognize the hand-written digits based on the training/testing datasets that you built in part (c).\n",
    "my_RandomForest = RandomForestClassifier(n_estimators=19, bootstrap=True, random_state=2)\n",
    "my_RandomForest.fit(X_train, y_train)\n",
    "\n",
    "y_pred = my_RandomForest.predict(X_test)\n",
    "\n",
    "accuracy = metrics.accuracy_score(y_test, y_pred)\n",
    "print(f\"Accuracy: {accuracy * 100:.2f}%\")"
   ]
  },
  {
   "cell_type": "code",
   "execution_count": null,
   "id": "026f6731-09dc-4faf-93a1-3de9afd28e01",
   "metadata": {},
   "outputs": [],
   "source": []
  }
 ],
 "metadata": {
  "kernelspec": {
   "display_name": "anaconda-panel-2023.05-py310",
   "language": "python",
   "name": "conda-env-anaconda-panel-2023.05-py310-py"
  },
  "language_info": {
   "codemirror_mode": {
    "name": "ipython",
    "version": 3
   },
   "file_extension": ".py",
   "mimetype": "text/x-python",
   "name": "python",
   "nbconvert_exporter": "python",
   "pygments_lexer": "ipython3",
   "version": "3.11.5"
  }
 },
 "nbformat": 4,
 "nbformat_minor": 5
}
