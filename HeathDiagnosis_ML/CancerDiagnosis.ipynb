{
 "cells": [
  {
   "cell_type": "code",
   "execution_count": 32,
   "id": "71a8f389-556c-4a0b-a705-073a8a46a484",
   "metadata": {},
   "outputs": [],
   "source": [
    "import pandas as pd\n",
    "from sklearn.model_selection import train_test_split\n",
    "from sklearn.tree import DecisionTreeClassifier\n",
    "from sklearn.utils import resample\n",
    "from sklearn.ensemble import RandomForestClassifier\n",
    "from sklearn.metrics import accuracy_score"
   ]
  },
  {
   "cell_type": "code",
   "execution_count": 33,
   "id": "ed2c022e-d774-49f7-a933-07750197f790",
   "metadata": {},
   "outputs": [],
   "source": [
    "#A. Read the dataset file “Cancer.csv” (from github using the following command), and assign it to a Pandas DataFrame:\n",
    "\n",
    "url = \"https://github.com/mpourhoma/CS4661/raw/master/Cancer.csv\"\n",
    "df = pd.read_csv(url)"
   ]
  },
  {
   "cell_type": "code",
   "execution_count": 34,
   "id": "0bf2031a-7099-4589-b527-d79f8554b01d",
   "metadata": {},
   "outputs": [],
   "source": [
    "#B. Use sklearn functions to split the dataset into testing and training sets with the following parameters: test_size=0.35, random_state=3.\n",
    "\n",
    "X = df.iloc[:, :-1]  \n",
    "y = df.iloc[:, -1]  \n",
    "\n",
    "X_train, X_test, y_train, y_test = train_test_split(X, y, test_size=0.35, random_state=3)\n"
   ]
  },
  {
   "cell_type": "code",
   "execution_count": 35,
   "id": "4aa53188-c88d-428f-9209-a2a6c1e49228",
   "metadata": {},
   "outputs": [
    {
     "name": "stdout",
     "output_type": "stream",
     "text": [
      "Decision Tree Accuracy: 0.8302\n"
     ]
    }
   ],
   "source": [
    "#C. Use “Decision Tree Classifier” to predict Cancer based on the training/testing datasets that you built in part (b). Then, calculate and report the accuracy of your classifier.\n",
    "\n",
    "my_DecisionTree = DecisionTreeClassifier(random_state=3)\n",
    "my_DecisionTree.fit(X_train, y_train)\n",
    "\n",
    "y_pred_dt = my_DecisionTree.predict(X_test)\n",
    "\n",
    "accuracy_dt = accuracy_score(y_test, y_pred_dt)\n",
    "print(f\"Decision Tree Accuracy: {accuracy_dt:.4f}\")"
   ]
  },
  {
   "cell_type": "code",
   "execution_count": 36,
   "id": "ae8e60dd-d149-4314-96d8-061a5a717842",
   "metadata": {},
   "outputs": [
    {
     "name": "stdout",
     "output_type": "stream",
     "text": [
      "Bagging (Voting) Accuracy: 0.9057\n"
     ]
    }
   ],
   "source": [
    "# D. Now, we want to perform a new Ensemble Learning method called “Bagging” based on Voting on 19 decision tree classifiers.\n",
    "\n",
    "num_classifiers = 19\n",
    "predictions_bagging = []\n",
    "\n",
    "for i in range(num_classifiers):\n",
    "    bootstrap_size = int(0.8 * len(X_train))\n",
    "    X_bootstrap, y_bootstrap = resample(X_train, y_train, n_samples=bootstrap_size, random_state=i, replace=True)\n",
    "\n",
    "    base_DecisionTree = DecisionTreeClassifier(random_state=3)\n",
    "    base_DecisionTree.fit(X_bootstrap, y_bootstrap)\n",
    "\n",
    "    y_pred_base = base_DecisionTree.predict(X_test)\n",
    "    predictions_bagging.append(y_pred_base)\n",
    "\n",
    "y_pred_bagging = []\n",
    "for i in range(len(X_test)):\n",
    "    counts = {0: 0, 1: 0}\n",
    "    for j in range(num_classifiers):\n",
    "        counts[predictions_bagging[j][i]] += 1\n",
    "\n",
    "    majority_class = max(counts, key=counts.get)\n",
    "    y_pred_bagging.append(majority_class)\n",
    "\n",
    "accuracy_bagging = accuracy_score(y_test, y_pred_bagging)\n",
    "print(f\"Bagging (Voting) Accuracy: {accuracy_bagging:.4f}\")\n"
   ]
  },
  {
   "cell_type": "code",
   "execution_count": 39,
   "id": "8619e6cd-7a73-4b4f-847b-369dd7c46224",
   "metadata": {},
   "outputs": [
    {
     "name": "stdout",
     "output_type": "stream",
     "text": [
      "Random Forest Accuracy: 0.9245\n"
     ]
    }
   ],
   "source": [
    "#E.Use scikit-learn “Random Forest” classifier to predict Cancer based on the training/testing datasets that you built in part (b). Then, calculate and report the accuracy of your classifier. Use this command to import and define your classifier:\n",
    "    \n",
    "from sklearn.ensemble import RandomForestClassifier\n",
    "\n",
    "my_RandomForest = RandomForestClassifier(n_estimators=19, bootstrap=True, random_state=3)\n",
    "my_RandomForest.fit(X_train, y_train)\n",
    "\n",
    "# Predictions on the test set\n",
    "y_pred_rf = my_RandomForest.predict(X_test)\n",
    "\n",
    "# Calculate and report Random Forest accuracy\n",
    "accuracy_rf = accuracy_score(y_test, y_pred_rf)\n",
    "print(f\"Random Forest Accuracy: {accuracy_rf:.4f}\")"
   ]
  }
 ],
 "metadata": {
  "kernelspec": {
   "display_name": "Python 3 (ipykernel)",
   "language": "python",
   "name": "python3"
  },
  "language_info": {
   "codemirror_mode": {
    "name": "ipython",
    "version": 3
   },
   "file_extension": ".py",
   "mimetype": "text/x-python",
   "name": "python",
   "nbconvert_exporter": "python",
   "pygments_lexer": "ipython3",
   "version": "3.9.12"
  }
 },
 "nbformat": 4,
 "nbformat_minor": 5
}
