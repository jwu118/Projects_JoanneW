{
 "cells": [
  {
   "cell_type": "code",
   "execution_count": 7,
   "id": "2e590898-25bb-4020-89d1-d534942ba775",
   "metadata": {},
   "outputs": [],
   "source": [
    "#A. In this question, we work with a simplified version of Heart dataset. Read the dataset file “Heart_short.csv” from github, and assign it to a Pandas DataFrame:\n",
    "\n",
    "import pandas as pd\n",
    "\n",
    "url = \"https://github.com/mpourhoma/CS4661/raw/master/Heart_short.csv\"\n",
    "df = pd.read_csv(url)"
   ]
  },
  {
   "cell_type": "code",
   "execution_count": 11,
   "id": "c3e059de-cd5c-476f-ae61-557bc47991ac",
   "metadata": {},
   "outputs": [
    {
     "name": "stdout",
     "output_type": "stream",
     "text": [
      "Feature Matrix (X):\n",
      "   Age  RestBP  Chol  RestECG  MaxHR  Oldpeak\n",
      "0   63     145   233        2    150      2.3\n",
      "1   67     160   286        2    108      1.5\n",
      "2   67     120   229        2    129      2.6\n",
      "3   37     130   250        0    187      3.5\n",
      "4   41     130   204        2    172      1.4\n",
      "\n",
      "Label Vector (AHD):\n",
      "[0 1 1 0 0 0 1 0 1 1 0 0 1 0 0 0 1 0 0 0 0 0 1 1 1 0 0 0 0 1 0 1 1 0 0 0 1\n",
      " 1 1 0 0 0 0 0 0 0 0 0 0 0 0 0 0 0 0 0 0 0 0 0 0 1 0 0 0 0 0 0 0 1 0 0 0 1\n",
      " 1 1 0 0 0 0 0 0 1 0 1 1 1 1 1 1 0 1 1 0 0 0 1 1 1 1 0 1 1 0 1 1 0 0 0 0 0\n",
      " 0 0 0 1 1 1 0 0 1 0 1 0 1 1 0 0 0 0 0 0 1 1 1 1 1 1 0 0 1 0 0 0 0 0 0 1 0\n",
      " 1 0 1 0 1 1 0 1 0 0 1 1 0 0 1 0 0 1 1 1 0 1 1 1 0 1 0 0 0 1 0 0 0 0 0 1 1\n",
      " 1 0 1 0 1 0 1 1 0 0 0 0 0 0 0 0 1 1 0 0 0 1 1 0 1 1 0 0 1 1 1 0 0 0 0 0 1\n",
      " 0 1 1 1 1 0 0 1 0 0 0 0 0 0 0 1 0 1 0 0 1 1 1 1 1 0 1 0 1 0 1 0 0 0 1 0 1\n",
      " 0 1 0 1 1 1 0 0 0 1 0 1 1 1 0 1 1 1 1 1 1 0]\n"
     ]
    }
   ],
   "source": [
    "#B. Generate the feature matrix and label vector (AHD). Then, normalize (scale) the features.\n",
    "\n",
    "from sklearn.preprocessing import StandardScaler, LabelEncoder\n",
    "\n",
    "X = df.drop('AHD', axis=1)  \n",
    "\n",
    "label_encoder = LabelEncoder()\n",
    "y = label_encoder.fit_transform(df['AHD'])  # Labels\n",
    "\n",
    "scaler = StandardScaler()\n",
    "X_scaled = scaler.fit_transform(X)\n",
    "\n",
    "print(\"Feature Matrix (X):\")\n",
    "print(X.head())\n",
    "\n",
    "print(\"\\nLabel Vector (AHD):\")\n",
    "print(y)"
   ]
  },
  {
   "cell_type": "code",
   "execution_count": 9,
   "id": "4ce5b133-685c-476b-ba32-980b7dc898db",
   "metadata": {},
   "outputs": [],
   "source": [
    "#C. Split the dataset into testing and training sets with the following parameters: test_size=0.25, random_state=3.\n",
    "\n",
    "from sklearn.model_selection import train_test_split\n",
    "\n",
    "X_train, X_test, y_train, y_test = train_test_split(X_scaled, y, test_size=0.25, random_state=3)\n"
   ]
  },
  {
   "cell_type": "code",
   "execution_count": 10,
   "id": "514ec3be-57d1-4fb6-b430-a37742747e55",
   "metadata": {},
   "outputs": [
    {
     "name": "stdout",
     "output_type": "stream",
     "text": [
      "Logistic Regression Accuracy: 0.7183\n"
     ]
    },
    {
     "data": {
      "image/png": "[encoded data removed]",
      "text/plain": [
       "<Figure size 576x576 with 1 Axes>"
      ]
     },
     "metadata": {
      "needs_background": "light"
     },
     "output_type": "display_data"
    },
    {
     "name": "stdout",
     "output_type": "stream",
     "text": [
      "AUC (Area Under Curve): 0.7650\n"
     ]
    }
   ],
   "source": [
    "#D. Use Logistic Regression Classifier to predict Heart Disease occurrence based on the training/testing datasets that you built in part(c). Then, compute and report the Accuracy.\n",
    "\n",
    "from sklearn.linear_model import LogisticRegression\n",
    "from sklearn.metrics import accuracy_score\n",
    "\n",
    "# Train the logistic regression model\n",
    "my_logreg = LogisticRegression(random_state=3)\n",
    "my_logreg.fit(X_train, y_train)\n",
    "\n",
    "# Predictions on the test set\n",
    "y_pred_logreg = my_logreg.predict(X_test)\n",
    "\n",
    "# Calculate and report Accuracy\n",
    "accuracy_logreg = accuracy_score(y_test, y_pred_logreg)\n",
    "print(f\"Logistic Regression Accuracy: {accuracy_logreg:.4f}\")\n",
    "\n",
    "# Now, predict probabilities using predict_proba method\n",
    "y_prob_logreg = my_logreg.predict_proba(X_test)[:, 1]\n",
    "\n",
    "# E. Plot the ROC Curve and Compute AUC\n",
    "from sklearn.metrics import roc_curve, auc\n",
    "import matplotlib.pyplot as plt\n",
    "\n",
    "# Compute ROC curve\n",
    "fpr, tpr, thresholds = roc_curve(y_test, y_prob_logreg)\n",
    "\n",
    "# Compute AUC\n",
    "roc_auc = auc(fpr, tpr)\n",
    "\n",
    "# Plot ROC curve\n",
    "plt.figure(figsize=(8, 8))\n",
    "plt.plot(fpr, tpr, color='darkorange', lw=2, label=f'AUC = {roc_auc:.2f}')\n",
    "plt.plot([0, 1], [0, 1], color='navy', lw=2, linestyle='--')\n",
    "plt.xlabel('False Positive Rate')\n",
    "plt.ylabel('True Positive Rate')\n",
    "plt.title('ROC Curve for Logistic Regression')\n",
    "plt.legend(loc='lower right')\n",
    "plt.show()\n",
    "\n",
    "# Print AUC\n",
    "print(f\"AUC (Area Under Curve): {roc_auc:.4f}\")"
   ]
  }
 ],
 "metadata": {
  "kernelspec": {
   "display_name": "Python 3 (ipykernel)",
   "language": "python",
   "name": "python3"
  },
  "language_info": {
   "codemirror_mode": {
    "name": "ipython",
    "version": 3
   },
   "file_extension": ".py",
   "mimetype": "text/x-python",
   "name": "python",
   "nbconvert_exporter": "python",
   "pygments_lexer": "ipython3",
   "version": "3.9.12"
  }
 },
 "nbformat": 4,
 "nbformat_minor": 5
}
